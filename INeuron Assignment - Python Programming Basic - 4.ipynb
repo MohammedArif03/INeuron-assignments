{
 "cells": [
  {
   "cell_type": "markdown",
   "metadata": {},
   "source": [
    "1) Write a Python Program to find the Factorial of a Number"
   ]
  },
  {
   "cell_type": "code",
   "execution_count": 52,
   "metadata": {},
   "outputs": [
    {
     "name": "stdout",
     "output_type": "stream",
     "text": [
      "120\n",
      "720\n",
      "3628800\n"
     ]
    }
   ],
   "source": [
    "def gen_factorial(n):\n",
    "    f = 1\n",
    "    for i in range(1, n+1):\n",
    "        f = f * i\n",
    "    return f\n",
    "\n",
    "print(gen_factorial(5))\n",
    "print(gen_factorial(6))\n",
    "print(gen_factorial(10))"
   ]
  },
  {
   "cell_type": "markdown",
   "metadata": {},
   "source": [
    "2) Write a Python Program to display the Multiplication Table"
   ]
  },
  {
   "cell_type": "code",
   "execution_count": 112,
   "metadata": {},
   "outputs": [
    {
     "name": "stdout",
     "output_type": "stream",
     "text": [
      "6 * 1 = 6\n",
      "6 * 2 = 12\n",
      "6 * 3 = 18\n",
      "6 * 4 = 24\n",
      "6 * 5 = 30\n",
      "6 * 6 = 36\n",
      "6 * 7 = 42\n",
      "6 * 8 = 48\n",
      "6 * 9 = 54\n",
      "6 * 10 = 60\n",
      "6 * 11 = 66\n",
      "6 * 12 = 72\n",
      "6 * 13 = 78\n",
      "6 * 14 = 84\n",
      "6 * 15 = 90\n"
     ]
    }
   ],
   "source": [
    "def gen_multiplication_table(number,end_limit):\n",
    "    \"\"\"\n",
    "    Doc string:\n",
    "    There are two arguments given for the multiplication table\n",
    "    arg1 is number - Multiplication table for a specific number. For eg: 2\n",
    "    arg2 is end_limit - What is the limit we want to end the multiplication table, Eg: 10, 20 etc..\n",
    "    \"\"\"\n",
    "    for i in range(1, end_limit + 1):\n",
    "        print('{} * {} = {}'.format(number,i,(number*i)))\n",
    "        \n",
    "gen_multiplication_table(6,15)"
   ]
  },
  {
   "cell_type": "markdown",
   "metadata": {},
   "source": [
    "3) Write a Python program to print fibonacci sequence"
   ]
  },
  {
   "cell_type": "code",
   "execution_count": 136,
   "metadata": {},
   "outputs": [
    {
     "data": {
      "text/plain": [
       "[0, 1, 1, 2, 3, 5, 8, 13, 21, 34, 55]"
      ]
     },
     "execution_count": 136,
     "metadata": {},
     "output_type": "execute_result"
    }
   ],
   "source": [
    "def gen_fibonacci(n):\n",
    "    lst1 = []\n",
    "    a = 0\n",
    "    b = 1\n",
    "    for i in range(n+1):\n",
    "        lst1.append(a)\n",
    "        a, b = b, a+b\n",
    "    return lst1\n",
    "\n",
    "gen_fibonacci(10)\n"
   ]
  },
  {
   "cell_type": "markdown",
   "metadata": {},
   "source": [
    "4) Write a Python Program to check Armstrong number"
   ]
  },
  {
   "cell_type": "code",
   "execution_count": 193,
   "metadata": {},
   "outputs": [
    {
     "name": "stdout",
     "output_type": "stream",
     "text": [
      "The number is not Armstrong\n",
      "The number is not Armstrong\n",
      "The number is Armstrong\n"
     ]
    }
   ],
   "source": [
    "def is_armstrong(num):\n",
    "    \n",
    "    # Armstrong number is a number if the sum of cube of each number is equal to the number itself\n",
    "    # if a number is between 1 to 9 then the number is armstrong number\n",
    "    if num in range(1,10):\n",
    "        return \"The number is Armstrong\"\n",
    "    \n",
    "    len_of_digit = len(str(num))\n",
    "    sum1 = 0\n",
    "    temp = num\n",
    "    while temp > 0:\n",
    "        d = temp % 10\n",
    "        sum1 = sum1 + d ** len_of_digit\n",
    "        temp = temp // 10\n",
    "    if sum1 == num:\n",
    "        return \"The number is Armstrong\"\n",
    "    else:\n",
    "        return \"The number is not Armstrong\"\n",
    "    \n",
    "print(is_armstrong(20))\n",
    "print(is_armstrong(650))\n",
    "print(is_armstrong(407))"
   ]
  },
  {
   "cell_type": "markdown",
   "metadata": {},
   "source": [
    "5) Write a Python Program to find Armstrong number in an interval"
   ]
  },
  {
   "cell_type": "code",
   "execution_count": 206,
   "metadata": {},
   "outputs": [
    {
     "name": "stdout",
     "output_type": "stream",
     "text": [
      "The number 1 is Armstrong\n",
      "The number 2 is Armstrong\n",
      "The number 3 is Armstrong\n",
      "The number 4 is Armstrong\n",
      "The number 5 is Armstrong\n",
      "The number 6 is Armstrong\n",
      "The number 7 is Armstrong\n",
      "The number 8 is Armstrong\n",
      "The number 9 is Armstrong\n",
      "The Number 10 is Not armstrong\n",
      "The Number 11 is Not armstrong\n",
      "The Number 12 is Not armstrong\n",
      "The Number 13 is Not armstrong\n",
      "The Number 14 is Not armstrong\n",
      "The Number 15 is Not armstrong\n",
      "The Number 16 is Not armstrong\n",
      "The Number 17 is Not armstrong\n",
      "The Number 18 is Not armstrong\n",
      "The Number 19 is Not armstrong\n",
      "The Number 20 is Not armstrong\n",
      "The Number 21 is Not armstrong\n",
      "The Number 22 is Not armstrong\n",
      "The Number 23 is Not armstrong\n",
      "The Number 24 is Not armstrong\n",
      "The Number 25 is Not armstrong\n"
     ]
    }
   ],
   "source": [
    "def is_armstrong_interval(start_value, stop_value):\n",
    " \n",
    "    for i in range(start_value, stop_value + 1):\n",
    "        sum1 = 0\n",
    "        len_of_digit = len(str(i))\n",
    "        temp = i\n",
    "        if i > 9:\n",
    "            while temp > 0:\n",
    "                d = temp % 10\n",
    "                sum1 = sum1 + d ** len_of_digit\n",
    "                temp = temp // 10\n",
    "                \n",
    "            if sum1 == i:\n",
    "                print (f\"The Number {i} is Armstrong\")\n",
    "            else:\n",
    "                print (f\"The Number {i} is Not armstrong\")                \n",
    "            \n",
    "        else:\n",
    "            print(f\"The number {i} is Armstrong\")     \n",
    "\n",
    "is_armstrong_interval(1,25)"
   ]
  },
  {
   "cell_type": "markdown",
   "metadata": {},
   "source": [
    "6) Write a Python Program to find the sum of natural numbers"
   ]
  },
  {
   "cell_type": "code",
   "execution_count": 213,
   "metadata": {},
   "outputs": [
    {
     "data": {
      "text/plain": [
       "325"
      ]
     },
     "execution_count": 213,
     "metadata": {},
     "output_type": "execute_result"
    }
   ],
   "source": [
    "def sum_of_natural_numbers(num):\n",
    "    sum = 0\n",
    "    while num > 0:\n",
    "        sum = sum + num\n",
    "        num = num - 1\n",
    "    return sum\n",
    "\n",
    "sum_of_natural_numbers(25)"
   ]
  },
  {
   "cell_type": "code",
   "execution_count": null,
   "metadata": {},
   "outputs": [],
   "source": []
  },
  {
   "cell_type": "code",
   "execution_count": null,
   "metadata": {},
   "outputs": [],
   "source": []
  }
 ],
 "metadata": {
  "kernelspec": {
   "display_name": "Python 3",
   "language": "python",
   "name": "python3"
  },
  "language_info": {
   "codemirror_mode": {
    "name": "ipython",
    "version": 3
   },
   "file_extension": ".py",
   "mimetype": "text/x-python",
   "name": "python",
   "nbconvert_exporter": "python",
   "pygments_lexer": "ipython3",
   "version": "3.8.3"
  }
 },
 "nbformat": 4,
 "nbformat_minor": 4
}
