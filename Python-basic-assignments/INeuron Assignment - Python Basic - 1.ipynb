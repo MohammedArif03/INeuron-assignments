{
 "cells": [
  {
   "cell_type": "markdown",
   "metadata": {},
   "source": [
    "### 1) In the below elements which of them are values or an expression? eg:- values can be\n",
    "### integer or string and expressions will be mathematical operators.\n",
    "\n",
    "### *, 'hello', -87.8, - , / , + , 6"
   ]
  },
  {
   "cell_type": "markdown",
   "metadata": {},
   "source": [
    "Answer:\n",
    "\n",
    "*, -, /, + is a mathematical operator.\n",
    "'hello' is a string value.\n",
    "-87.8 is a decimal value.\n",
    "6 is an integer value.\n"
   ]
  },
  {
   "cell_type": "markdown",
   "metadata": {},
   "source": [
    "### 2) What is the difference between string and variable"
   ]
  },
  {
   "cell_type": "markdown",
   "metadata": {},
   "source": [
    "Answer:\n",
    "\n",
    "String - It is a sequence of characters. In python string can be enclosed within single, double or triple quotes.\n",
    "Eg: s = \"India\".\n",
    "\n",
    "Variable - It is a name of the memory location where we can use to store any values.\n",
    "Eg: a = 10, b = \"ineuron\"."
   ]
  },
  {
   "cell_type": "markdown",
   "metadata": {},
   "source": [
    "### 3) Describe three different data types."
   ]
  },
  {
   "cell_type": "markdown",
   "metadata": {},
   "source": [
    "Answer:\n",
    "\n",
    "Integer data type: Integer in python are of unlimited size and store whole numbers.\n",
    "\n",
    "Float - float stores decimal numbers \n",
    "\n",
    "Complex - complex numbers contains two parts. The real and imaginary part. Eg: 5 + 6j where 5 is a real part and 6 is an imaginary part and 'j' is a notation for imaginary"
   ]
  },
  {
   "cell_type": "markdown",
   "metadata": {},
   "source": [
    "### 4) What is an expression made up of? What do all expressions do?"
   ]
  },
  {
   "cell_type": "markdown",
   "metadata": {},
   "source": [
    "Answer:\n",
    "Expressions are made up of mathematical formulas, operators (+,-,*,/,%,//) and functions and each expression performs certain operations based on the logic written.  It takes input, perform some calculations and provides a new output value.\n",
    "\n",
    "Eg: exp = ((a + b) - (c * d) / 2) is an expression"
   ]
  },
  {
   "cell_type": "markdown",
   "metadata": {},
   "source": [
    "### 5) This assignment statements, like spam = 10. What is the difference between an\n",
    "expression and a statement?"
   ]
  },
  {
   "cell_type": "markdown",
   "metadata": {},
   "source": [
    "Answer:\n",
    "\n",
    "Expression is a combination of values and functions in which takes inputs, perform calculations and provides output.\n",
    "\n",
    "Eg: c = (a+b) ** 2\n",
    "\n",
    "Statement represents action or command. Eg: Print() statements, If else statements.\n",
    "\n",
    "Eg: print('hello')\n",
    "num = 5\n"
   ]
  },
  {
   "cell_type": "markdown",
   "metadata": {},
   "source": [
    "### 6) After running the following code, what does the variable bacon contain?\n",
    "bacon = 22\n",
    "\n",
    "bacon + 1"
   ]
  },
  {
   "cell_type": "markdown",
   "metadata": {},
   "source": [
    "Answer:\n",
    "\n",
    "23\n"
   ]
  },
  {
   "cell_type": "markdown",
   "metadata": {},
   "source": [
    "### 7) What should the values of the following two terms be?\n",
    "&#39;spam&#39; + &#39;spamspam&#39;\n",
    "\n",
    "&#39;spam&#39; * 3"
   ]
  },
  {
   "cell_type": "markdown",
   "metadata": {},
   "source": [
    "Answer:\n",
    "\n",
    "1st term: 'spam'+'spamspam' gives output as 'spamspamspam'\n",
    "\n",
    "2nd term: 'spam'*3 gives output as 'spamspamspam'"
   ]
  },
  {
   "cell_type": "markdown",
   "metadata": {},
   "source": [
    "### 8) Why is eggs a valid variable name while 100 is invalid?"
   ]
  },
  {
   "cell_type": "markdown",
   "metadata": {},
   "source": [
    "Answer:\n",
    " \n",
    "Variables names should not start with a number. \n",
    "Variables names should start with alphanumeric character where the first character should be alphabets.\n",
    "Varibles names should not contains any special characters.\n",
    "\n",
    "eggs is a sequence of characters and hence we can considered as variable name whereas 100 is an integer value and hence cannot be named as variable name.\n"
   ]
  },
  {
   "cell_type": "markdown",
   "metadata": {},
   "source": [
    "### 9) What three functions can be used to get the integer, floating-point number, or string version of a value?"
   ]
  },
  {
   "cell_type": "markdown",
   "metadata": {},
   "source": [
    "Answer:\n",
    "\n",
    "int()\n",
    "\n",
    "float()\n",
    "\n",
    "str()"
   ]
  },
  {
   "cell_type": "markdown",
   "metadata": {},
   "source": [
    "### 10) Why does this expression cause an error? How can you fix it?\n",
    "\n",
    "&#39;I have eaten &#39; + 99 + &#39; burritos.&#39;"
   ]
  },
  {
   "cell_type": "markdown",
   "metadata": {},
   "source": [
    "Answer:\n",
    "\n",
    "In this expression 'I have eaten' + 99 + 'burritos' gives an error because 99 is an integer value and we are trying to concatenate with string. So to avoid this error, we have to enclose 99 into quotes as '99'.\n",
    "\n",
    "'I have eaten' + '99' + 'burritos'\n",
    "\n"
   ]
  }
 ],
 "metadata": {
  "kernelspec": {
   "display_name": "Python 3",
   "language": "python",
   "name": "python3"
  },
  "language_info": {
   "codemirror_mode": {
    "name": "ipython",
    "version": 3
   },
   "file_extension": ".py",
   "mimetype": "text/x-python",
   "name": "python",
   "nbconvert_exporter": "python",
   "pygments_lexer": "ipython3",
   "version": "3.8.3"
  }
 },
 "nbformat": 4,
 "nbformat_minor": 4
}
