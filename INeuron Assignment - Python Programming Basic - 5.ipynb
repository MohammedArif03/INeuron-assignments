{
 "cells": [
  {
   "cell_type": "markdown",
   "metadata": {},
   "source": [
    "1) Write a Python program to find LCM"
   ]
  },
  {
   "cell_type": "code",
   "execution_count": 12,
   "metadata": {},
   "outputs": [
    {
     "name": "stdout",
     "output_type": "stream",
     "text": [
      "The lcm of 10 and 25 is 50\n"
     ]
    }
   ],
   "source": [
    "def find_lcm(num1,num2):\n",
    "    if num1 > num2:\n",
    "        greater = num1\n",
    "    else:\n",
    "        greater = num2\n",
    "        \n",
    "    while True:\n",
    "        if ((greater % num1) == 0) and ((greater % num2) == 0):\n",
    "            lcm = greater\n",
    "            break\n",
    "        greater = greater + 1\n",
    "    return f\"The lcm of {num1} and {num2} is {lcm}\"\n",
    "\n",
    "print(find_lcm(10,25))"
   ]
  },
  {
   "cell_type": "markdown",
   "metadata": {},
   "source": [
    "2) Write a Python program to find HCF"
   ]
  },
  {
   "cell_type": "code",
   "execution_count": 16,
   "metadata": {},
   "outputs": [
    {
     "name": "stdout",
     "output_type": "stream",
     "text": [
      "2\n"
     ]
    }
   ],
   "source": [
    "def find_hcf(num1,num2):\n",
    "    if num1 < num2:\n",
    "        smaller = num2\n",
    "    else:\n",
    "        smaller = num1\n",
    "        \n",
    "    for i in range(1,smaller+1):\n",
    "        if((num1%i) == 0) and ((num2%i)==0):\n",
    "            hcf = i\n",
    "    return hcf\n",
    "\n",
    "print(find_hcf(10,12))"
   ]
  },
  {
   "cell_type": "markdown",
   "metadata": {},
   "source": [
    "3) Write a Python program to convert decimal to Binary, Octal and Hexadecimal"
   ]
  },
  {
   "cell_type": "code",
   "execution_count": 18,
   "metadata": {},
   "outputs": [
    {
     "name": "stdout",
     "output_type": "stream",
     "text": [
      "Enter the number:56\n",
      "0b111000\n",
      "0o70\n",
      "0x38\n"
     ]
    }
   ],
   "source": [
    "n = int(input(\"Enter the number:\"))\n",
    "\n",
    "print(bin(n))\n",
    "print(oct(n))\n",
    "print(hex(n))"
   ]
  },
  {
   "cell_type": "markdown",
   "metadata": {},
   "source": [
    "4) Write a Python program to find ASCII value of a character"
   ]
  },
  {
   "cell_type": "code",
   "execution_count": 22,
   "metadata": {},
   "outputs": [
    {
     "name": "stdout",
     "output_type": "stream",
     "text": [
      "Enter the character:A\n",
      "65\n"
     ]
    }
   ],
   "source": [
    "char = input(\"Enter the character:\")\n",
    "\n",
    "print(ord(char))"
   ]
  },
  {
   "cell_type": "markdown",
   "metadata": {},
   "source": [
    "5) Write a Python Program to Make a Simple Calculator with 4 basic mathematical operations"
   ]
  },
  {
   "cell_type": "code",
   "execution_count": 25,
   "metadata": {},
   "outputs": [
    {
     "name": "stdout",
     "output_type": "stream",
     "text": [
      "Enter number 1:6\n",
      "Enter number 2:3\n",
      "The summation of 6 and 3 is 9\n",
      "The difference of 6 and 3 is 3\n",
      "The multiplication of 6 and 3 is 18\n",
      "The division of 6 and 3 is 2.0\n"
     ]
    }
   ],
   "source": [
    "n1 = int(input(\"Enter number 1:\"))\n",
    "n2 = int(input(\"Enter number 2:\"))\n",
    "\n",
    "if n1 > 0 and n2 > 0:\n",
    "    print(f\"The summation of {n1} and {n2} is {n1+n2}\")\n",
    "    print(f\"The difference of {n1} and {n2} is {n1-n2}\")\n",
    "    print(f\"The multiplication of {n1} and {n2} is {n1*n2}\")\n",
    "    print(f\"The division of {n1} and {n2} is {n1/n2}\")\n",
    "else:\n",
    "    print(\"Please enter positive number to perform calculations\")"
   ]
  },
  {
   "cell_type": "code",
   "execution_count": null,
   "metadata": {},
   "outputs": [],
   "source": []
  }
 ],
 "metadata": {
  "kernelspec": {
   "display_name": "Python 3",
   "language": "python",
   "name": "python3"
  },
  "language_info": {
   "codemirror_mode": {
    "name": "ipython",
    "version": 3
   },
   "file_extension": ".py",
   "mimetype": "text/x-python",
   "name": "python",
   "nbconvert_exporter": "python",
   "pygments_lexer": "ipython3",
   "version": "3.8.3"
  }
 },
 "nbformat": 4,
 "nbformat_minor": 4
}
